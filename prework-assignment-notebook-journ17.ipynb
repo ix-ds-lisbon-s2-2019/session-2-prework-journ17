{
 "cells": [
  {
   "cell_type": "markdown",
   "metadata": {},
   "source": [
    "# Prework Assignment"
   ]
  },
  {
   "cell_type": "markdown",
   "metadata": {},
   "source": [
    "### General Background Questions"
   ]
  },
  {
   "cell_type": "markdown",
   "metadata": {},
   "source": [
    "1. Why is version control important in science?"
   ]
  },
  {
   "cell_type": "markdown",
   "metadata": {},
   "source": [
    "'''\n",
    "Researchers in science are adopting good version control (VC) practices from the software industry. Scientific research is grounded in reproducibility and thorough/well thought out methodology. This allows researchers to access and improve on research that has already been conducted, in all stages of scientific research i.e. from data collection stage to the manuscript preparation stage. Such a complicated, multi-step process -- where revisions to data are made by multiple collaborators – makes it a challenge for research collaborators to stay on top of their workflow, to avoid duplicates, and keep track of changes.  For instance, VC systems allow every version of the research process to be saved, along with comments that clarify changes made. An original file is created, from which duplicates can be made, stored to a local repository, before they are committed and pushed to the server. Commits are also helpful, because they “bookmark” points of progress, but allow work to still be reverted to the original. \n",
    "'''"
   ]
  },
  {
   "cell_type": "markdown",
   "metadata": {},
   "source": [
    "2. What kind of research artifacts can we track with Git?"
   ]
  },
  {
   "cell_type": "markdown",
   "metadata": {},
   "source": [
    "'''\n",
    "Git allows researchers to keep track of:\n",
    "\n",
    "\t•\tresearch manuscripts/notes: Git can track changes and parts of the file that have changed. \n",
    "\t•\tDatasets: when errors are discovered later in the data collection/research process, researchers can revert to earlier versions of a file.\n",
    "\t•\tStatistical code and figures: research that synthesize data with software like Python and R involve fast growing datasets, where a mistake in coding can have serious implications down the pipeline. Git allows errors to be ascertained by attributing code to individual sources, allowing comparisons between versions to be made. \n",
    "'''"
   ]
  },
  {
   "cell_type": "markdown",
   "metadata": {},
   "source": [
    "3. What are the three main things that can go wrong in a data science project?"
   ]
  },
  {
   "cell_type": "markdown",
   "metadata": {},
   "source": [
    "'''\n",
    "Three things that can go wrong in a data science project:\n",
    "\t•\tData isn’t what you were expecting it to be - e.g. isn’t in a form you can use; isn’t stored in a place you have access to)\n",
    "\t•\tModel is faulty – data doesn’t have the signal you are looking for (doesn’t show correlation, covariation or evidence of factors varying with each other). \n",
    "\t•\tNot the right problem being solved – even with good, accessible data, and a good model, you may not be working on a problem that addresses needs/demands\n",
    "'''"
   ]
  },
  {
   "cell_type": "markdown",
   "metadata": {},
   "source": [
    "### Python Background Questions"
   ]
  },
  {
   "cell_type": "markdown",
   "metadata": {},
   "source": [
    "These short exercises are a way to familiarize yourself with python. If you find these exercises too difficult, don’t worry! We will review the basics the first day to make sure we are all comfortable coding in Python.\n",
    "\n",
    "Please save your work in this document and `git push` them to the `prework-assignment` repo.\n",
    "\n",
    "----------------------------------------------------------------"
   ]
  },
  {
   "cell_type": "markdown",
   "metadata": {},
   "source": [
    "### Problem 1: Basic Operations"
   ]
  },
  {
   "cell_type": "markdown",
   "metadata": {},
   "source": [
    "You are at Vanessa's Vegan Cafe and you loved it so much you wanna leave a tip. Write a function that takes the amount owed and calculates how much money you pay with an 18% tip. If functions still scare you, just the solution code will do."
   ]
  },
  {
   "cell_type": "code",
   "execution_count": 1,
   "metadata": {},
   "outputs": [],
   "source": [
    "def total_paid(charged, tip):\n",
    "    return(charged*(1+tip/100))"
   ]
  },
  {
   "cell_type": "code",
   "execution_count": 2,
   "metadata": {},
   "outputs": [
    {
     "data": {
      "text/plain": [
       "23.599999999999998"
      ]
     },
     "execution_count": 2,
     "metadata": {},
     "output_type": "execute_result"
    }
   ],
   "source": [
    "total_paid(20, 18)"
   ]
  },
  {
   "cell_type": "markdown",
   "metadata": {},
   "source": [
    "----------------------------------------------------------------"
   ]
  },
  {
   "cell_type": "markdown",
   "metadata": {},
   "source": [
    "### Problem 2: Lists"
   ]
  },
  {
   "cell_type": "markdown",
   "metadata": {},
   "source": [
    "I have a fortune cookie that says my lucky numbers are:\n",
    "\n",
    "       [23, 54, 6, 8, 10078, 3]\n",
    "\n",
    "Write a function that returns 3 lists (if functions still scare you, just the solution code will do)\n",
    "   - replace the number 6 with 1\n",
    "   - the above list in decreasing order\n",
    "   - all values greater than 15"
   ]
  },
  {
   "cell_type": "code",
   "execution_count": null,
   "metadata": {},
   "outputs": [],
   "source": [
    "# replace number 6 with 1"
   ]
  },
  {
   "cell_type": "code",
   "execution_count": 3,
   "metadata": {},
   "outputs": [],
   "source": [
    "cookie_list = [23, 54, 6, 8, 10078, 3]"
   ]
  },
  {
   "cell_type": "code",
   "execution_count": 4,
   "metadata": {},
   "outputs": [],
   "source": [
    "cookie_list[2] = 1"
   ]
  },
  {
   "cell_type": "code",
   "execution_count": 5,
   "metadata": {},
   "outputs": [
    {
     "data": {
      "text/plain": [
       "[23, 54, 1, 8, 10078, 3]"
      ]
     },
     "execution_count": 5,
     "metadata": {},
     "output_type": "execute_result"
    }
   ],
   "source": [
    "cookie_list"
   ]
  },
  {
   "cell_type": "code",
   "execution_count": null,
   "metadata": {},
   "outputs": [],
   "source": [
    "# above list in decreasing order"
   ]
  },
  {
   "cell_type": "code",
   "execution_count": 6,
   "metadata": {},
   "outputs": [],
   "source": [
    "cookie_list = [23, 54, 6, 8, 10078, 3]"
   ]
  },
  {
   "cell_type": "code",
   "execution_count": 7,
   "metadata": {},
   "outputs": [],
   "source": [
    "cookie_list.sort()"
   ]
  },
  {
   "cell_type": "code",
   "execution_count": 8,
   "metadata": {},
   "outputs": [
    {
     "data": {
      "text/plain": [
       "[3, 6, 8, 23, 54, 10078]"
      ]
     },
     "execution_count": 8,
     "metadata": {},
     "output_type": "execute_result"
    }
   ],
   "source": [
    "cookie_list"
   ]
  },
  {
   "cell_type": "markdown",
   "metadata": {},
   "source": [
    "----------------------------------------------------------------"
   ]
  },
  {
   "cell_type": "code",
   "execution_count": 9,
   "metadata": {},
   "outputs": [],
   "source": [
    "cookie_list.reverse()"
   ]
  },
  {
   "cell_type": "code",
   "execution_count": 10,
   "metadata": {},
   "outputs": [
    {
     "data": {
      "text/plain": [
       "[10078, 54, 23, 8, 6, 3]"
      ]
     },
     "execution_count": 10,
     "metadata": {},
     "output_type": "execute_result"
    }
   ],
   "source": [
    "cookie_list"
   ]
  },
  {
   "cell_type": "code",
   "execution_count": null,
   "metadata": {},
   "outputs": [],
   "source": [
    "# values greater than 15"
   ]
  },
  {
   "cell_type": "code",
   "execution_count": 11,
   "metadata": {},
   "outputs": [],
   "source": [
    "cookie_list = [23, 54, 6, 8, 10078, 3]"
   ]
  },
  {
   "cell_type": "code",
   "execution_count": 12,
   "metadata": {},
   "outputs": [
    {
     "name": "stdout",
     "output_type": "stream",
     "text": [
      "23\n",
      "54\n",
      "10078\n"
     ]
    }
   ],
   "source": [
    "for i in cookie_list:\n",
    "    if i > 15: \n",
    "        print(i)"
   ]
  },
  {
   "cell_type": "markdown",
   "metadata": {},
   "source": [
    "### Problem 3: Basic Operations"
   ]
  },
  {
   "cell_type": "markdown",
   "metadata": {},
   "source": [
    "Let's now take the first step in coding some real data science. Write a statement that loads the `numpy` library into the interpreter and gives it an alias of `np`."
   ]
  },
  {
   "cell_type": "code",
   "execution_count": 14,
   "metadata": {},
   "outputs": [],
   "source": [
    "import numpy as np"
   ]
  },
  {
   "cell_type": "markdown",
   "metadata": {},
   "source": [
    "----------------------------------------------------------------"
   ]
  },
  {
   "cell_type": "markdown",
   "metadata": {},
   "source": [
    "### Problem 4: Numpy"
   ]
  },
  {
   "cell_type": "markdown",
   "metadata": {},
   "source": [
    "Generated a 10x10 `numpy` array with random numbers and slice the array to get the 2nd and 3rd column. Also calculate the average of 6th column using `numpy`."
   ]
  },
  {
   "cell_type": "code",
   "execution_count": 15,
   "metadata": {},
   "outputs": [],
   "source": [
    "arr = np.random.randn(100).reshape((10,10))"
   ]
  },
  {
   "cell_type": "code",
   "execution_count": 16,
   "metadata": {},
   "outputs": [
    {
     "data": {
      "text/plain": [
       "array([[-9.32838850e-01,  1.73847581e+00,  6.70246849e-01,\n",
       "         2.02981169e+00,  1.16556609e+00, -2.11579567e+00,\n",
       "         1.65466683e-01, -2.29227220e-01, -6.05444317e-01,\n",
       "        -5.69949343e-01],\n",
       "       [ 1.33084610e+00, -4.90211743e-01,  5.76706558e-01,\n",
       "         7.83896460e-01,  4.96407472e-01,  1.55584005e+00,\n",
       "        -1.74327971e+00, -1.00666126e+00, -3.57392844e-01,\n",
       "        -1.31071945e+00],\n",
       "       [-1.01513315e+00, -6.88642143e-01, -1.46057868e+00,\n",
       "        -5.37260417e-01,  1.61725053e-01, -7.93094264e-01,\n",
       "        -1.04011362e+00, -1.02185024e+00, -1.53553728e+00,\n",
       "         1.65543670e+00],\n",
       "       [ 2.53487965e-02, -9.96016996e-01,  2.93323736e-01,\n",
       "         1.87949331e-03, -1.73469976e-01,  2.34993363e-01,\n",
       "         1.40480486e-01, -6.15882925e-02, -5.99556586e-01,\n",
       "        -7.20172043e-01],\n",
       "       [ 6.03952228e-01, -9.40366231e-01,  1.28470994e+00,\n",
       "         5.02365169e-02,  6.09107518e-01,  1.44648548e+00,\n",
       "         1.21625230e+00, -3.39796352e-01,  5.60959702e-01,\n",
       "         1.45331856e+00],\n",
       "       [ 9.04086546e-01,  2.64032785e+00, -7.13086853e-01,\n",
       "        -1.57638063e+00, -8.13605803e-01, -1.95335829e+00,\n",
       "         3.11037854e-01,  9.65570560e-02,  5.75767561e-01,\n",
       "        -7.81001673e-01],\n",
       "       [ 2.64150594e-01, -1.54176126e+00, -1.05843330e+00,\n",
       "        -3.87752212e-01, -4.30901562e-01, -1.34205333e+00,\n",
       "        -1.53756793e-01, -1.00424002e+00,  1.70779843e-01,\n",
       "         5.32885206e-01],\n",
       "       [-1.08474948e+00,  4.41865927e-02,  1.04755396e+00,\n",
       "         1.28855506e+00,  9.33635823e-01, -1.52826802e+00,\n",
       "         4.18635216e-02,  2.26752347e-01, -7.48279666e-01,\n",
       "        -4.95384343e-01],\n",
       "       [-1.49931370e+00,  1.81052787e+00,  5.31419068e-01,\n",
       "        -7.01091599e-01, -6.37169553e-01,  1.36668178e-01,\n",
       "         1.84630871e-01,  7.98505792e-01, -7.27692880e-01,\n",
       "        -1.16955551e+00],\n",
       "       [ 7.39076291e-01,  5.14711164e-01,  7.66484312e-01,\n",
       "         4.58629240e-01,  3.79206747e-01, -1.48161323e+00,\n",
       "        -3.46589085e-01,  3.07162143e-01, -4.90643985e-01,\n",
       "         4.48166772e-01]])"
      ]
     },
     "execution_count": 16,
     "metadata": {},
     "output_type": "execute_result"
    }
   ],
   "source": [
    "arr"
   ]
  },
  {
   "cell_type": "code",
   "execution_count": 17,
   "metadata": {},
   "outputs": [
    {
     "data": {
      "text/plain": [
       "array([[ 1.73847581,  0.67024685],\n",
       "       [-0.49021174,  0.57670656],\n",
       "       [-0.68864214, -1.46057868],\n",
       "       [-0.996017  ,  0.29332374],\n",
       "       [-0.94036623,  1.28470994],\n",
       "       [ 2.64032785, -0.71308685],\n",
       "       [-1.54176126, -1.0584333 ],\n",
       "       [ 0.04418659,  1.04755396],\n",
       "       [ 1.81052787,  0.53141907],\n",
       "       [ 0.51471116,  0.76648431]])"
      ]
     },
     "execution_count": 17,
     "metadata": {},
     "output_type": "execute_result"
    }
   ],
   "source": [
    "arr[:, 1:3]"
   ]
  },
  {
   "cell_type": "code",
   "execution_count": 18,
   "metadata": {},
   "outputs": [
    {
     "data": {
      "text/plain": [
       "-0.5840195747320729"
      ]
     },
     "execution_count": 18,
     "metadata": {},
     "output_type": "execute_result"
    }
   ],
   "source": [
    "arr[:, 5].mean()"
   ]
  },
  {
   "cell_type": "markdown",
   "metadata": {},
   "source": [
    "----------------------------------------------------------------"
   ]
  },
  {
   "cell_type": "markdown",
   "metadata": {},
   "source": [
    "##### That's it! We look forward to seeing you in class!"
   ]
  }
 ],
 "metadata": {
  "kernelspec": {
   "display_name": "Python 3",
   "language": "python",
   "name": "python3"
  },
  "language_info": {
   "codemirror_mode": {
    "name": "ipython",
    "version": 3
   },
   "file_extension": ".py",
   "mimetype": "text/x-python",
   "name": "python",
   "nbconvert_exporter": "python",
   "pygments_lexer": "ipython3",
   "version": "3.7.3"
  }
 },
 "nbformat": 4,
 "nbformat_minor": 2
}
